{
 "cells": [
  {
   "cell_type": "code",
   "execution_count": 1,
   "metadata": {},
   "outputs": [],
   "source": [
    "import torch.nn as nn \n",
    "import torch\n",
    "import torch.optim as optim \n",
    "import torchvision.transforms as transforms\n",
    "import torchvision.datasets as dsets\n",
    "from torch.utils.data import DataLoader\n",
    "import numpy as np \n",
    "import os\n",
    "import matplotlib.pyplot as plt\n",
    "\n",
    "\n",
    "train_set = dsets.ImageFolder(root = r'C:\\Users\\EonKim\\Desktop\\git_upload\\boostcource\\파이토치로 시작하는 딥러닝 기초\\project\\02_cnn_pt\\data\\my_cat_dog\\train')\n",
    "val_set = dsets.ImageFolder(root = r'C:\\Users\\EonKim\\Desktop\\git_upload\\boostcource\\파이토치로 시작하는 딥러닝 기초\\project\\02_cnn_pt\\data\\my_cat_dog\\val')\n",
    "test_set = dsets.ImageFolder(root = r'C:\\Users\\EonKim\\Desktop\\git_upload\\boostcource\\파이토치로 시작하는 딥러닝 기초\\project\\02_cnn_pt\\data\\my_cat_dog\\test')"
   ]
  },
  {
   "cell_type": "code",
   "execution_count": null,
   "metadata": {},
   "outputs": [
    {
     "ename": "Error",
     "evalue": "Session cannot generate requests",
     "output_type": "error",
     "traceback": [
      "Error: Session cannot generate requests",
      "at w.executeCodeCell (c:\\Users\\EonKim\\.vscode\\extensions\\ms-toolsai.jupyter-2021.9.1001312534\\out\\client\\extension.js:52:301180)",
      "at w.execute (c:\\Users\\EonKim\\.vscode\\extensions\\ms-toolsai.jupyter-2021.9.1001312534\\out\\client\\extension.js:52:300551)",
      "at w.start (c:\\Users\\EonKim\\.vscode\\extensions\\ms-toolsai.jupyter-2021.9.1001312534\\out\\client\\extension.js:52:296215)",
      "at runMicrotasks (<anonymous>)",
      "at processTicksAndRejections (internal/process/task_queues.js:93:5)",
      "at async t.CellExecutionQueue.executeQueuedCells (c:\\Users\\EonKim\\.vscode\\extensions\\ms-toolsai.jupyter-2021.9.1001312534\\out\\client\\extension.js:52:310950)",
      "at async t.CellExecutionQueue.start (c:\\Users\\EonKim\\.vscode\\extensions\\ms-toolsai.jupyter-2021.9.1001312534\\out\\client\\extension.js:52:310490)"
     ]
    }
   ],
   "source": [
    "data_transforms = {\n",
    "    'train': transforms.Compose([\n",
    "        transforms.RandomRotation(5),\n",
    "        transforms.RandomHorizontalFlip(),\n",
    "        transforms.RandomResizedCrop(120, scale=(0.96, 1.0), ratio=(0.95, 1.05)),\n",
    "        transforms.ToTensor(),\n",
    "        transforms.Normalize([0.485, 0.456, 0.406], [0.229, 0.224, 0.225])\n",
    "    ]),\n",
    "    'val': transforms.Compose([\n",
    "        transforms.Resize([120, 120]),\n",
    "        transforms.ToTensor(),\n",
    "        transforms.Normalize([0.485, 0.456, 0.406], [0.229, 0.224, 0.225])\n",
    "    ]),\n",
    "}\n",
    "\n",
    "transforms(data_transforms, transforms= transforms )"
   ]
  },
  {
   "cell_type": "code",
   "execution_count": null,
   "metadata": {},
   "outputs": [],
   "source": []
  }
 ],
 "metadata": {
  "interpreter": {
   "hash": "9a957a1fea41707a244f264f295721eb09ec21d5be06b513cdb5f37b29d60cc5"
  },
  "kernelspec": {
   "display_name": "Python 3.9.2 64-bit ('geo': conda)",
   "name": "python3"
  },
  "language_info": {
   "codemirror_mode": {
    "name": "ipython",
    "version": 3
   },
   "file_extension": ".py",
   "mimetype": "text/x-python",
   "name": "python",
   "nbconvert_exporter": "python",
   "pygments_lexer": "ipython3",
   "version": "3.9.2"
  },
  "orig_nbformat": 4
 },
 "nbformat": 4,
 "nbformat_minor": 2
}
